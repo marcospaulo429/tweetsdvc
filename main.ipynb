{
 "cells": [
  {
   "cell_type": "code",
   "execution_count": 1,
   "metadata": {},
   "outputs": [],
   "source": [
    "import numpy as np\n",
    "import pandas as pd"
   ]
  },
  {
   "cell_type": "code",
   "execution_count": 2,
   "metadata": {},
   "outputs": [],
   "source": [
    "df = pd.read_csv(\"tweets2020.csv\",index_col=\"Unnamed: 0\")"
   ]
  },
  {
   "cell_type": "code",
   "execution_count": 3,
   "metadata": {},
   "outputs": [
    {
     "data": {
      "text/html": [
       "<div>\n",
       "<style scoped>\n",
       "    .dataframe tbody tr th:only-of-type {\n",
       "        vertical-align: middle;\n",
       "    }\n",
       "\n",
       "    .dataframe tbody tr th {\n",
       "        vertical-align: top;\n",
       "    }\n",
       "\n",
       "    .dataframe thead th {\n",
       "        text-align: right;\n",
       "    }\n",
       "</style>\n",
       "<table border=\"1\" class=\"dataframe\">\n",
       "  <thead>\n",
       "    <tr style=\"text-align: right;\">\n",
       "      <th></th>\n",
       "      <th>2</th>\n",
       "      <th>Classificação</th>\n",
       "    </tr>\n",
       "  </thead>\n",
       "  <tbody>\n",
       "    <tr>\n",
       "      <th>0</th>\n",
       "      <td>RT @AjudemSerena: IMPLORO POR SOCORRO!\\nPor fa...</td>\n",
       "      <td>0</td>\n",
       "    </tr>\n",
       "    <tr>\n",
       "      <th>1</th>\n",
       "      <td>@ShakedownVail Yo. What a #kickass #chill bar ...</td>\n",
       "      <td>0</td>\n",
       "    </tr>\n",
       "    <tr>\n",
       "      <th>2</th>\n",
       "      <td>RT @grazianopascale: \"Parece la trama de un fi...</td>\n",
       "      <td>0</td>\n",
       "    </tr>\n",
       "    <tr>\n",
       "      <th>3</th>\n",
       "      <td>RT @marcofeliciano: Pare e compare: PETROBRAS ...</td>\n",
       "      <td>2</td>\n",
       "    </tr>\n",
       "    <tr>\n",
       "      <th>4</th>\n",
       "      <td>RT @NetoItirussu: Hoje em depoimento da operaç...</td>\n",
       "      <td>0</td>\n",
       "    </tr>\n",
       "  </tbody>\n",
       "</table>\n",
       "</div>"
      ],
      "text/plain": [
       "                                                   2  Classificação\n",
       "0  RT @AjudemSerena: IMPLORO POR SOCORRO!\\nPor fa...              0\n",
       "1  @ShakedownVail Yo. What a #kickass #chill bar ...              0\n",
       "2  RT @grazianopascale: \"Parece la trama de un fi...              0\n",
       "3  RT @marcofeliciano: Pare e compare: PETROBRAS ...              2\n",
       "4  RT @NetoItirussu: Hoje em depoimento da operaç...              0"
      ]
     },
     "execution_count": 3,
     "metadata": {},
     "output_type": "execute_result"
    }
   ],
   "source": [
    "df.head()"
   ]
  },
  {
   "cell_type": "markdown",
   "metadata": {},
   "source": [
    "### Link pra uso do bard:\n",
    "https://ai.google.dev/gemini-api/docs/get-started/python?hl=pt-br"
   ]
  },
  {
   "cell_type": "code",
   "execution_count": 4,
   "metadata": {},
   "outputs": [],
   "source": [
    "#pip install -q -U google-generativeai"
   ]
  },
  {
   "cell_type": "code",
   "execution_count": 5,
   "metadata": {},
   "outputs": [
    {
     "name": "stderr",
     "output_type": "stream",
     "text": [
      "/media/marcos/2caebd18-4175-48de-967d-932bd88604d32/Ajuda Mestrado/tweets/env/lib/python3.10/site-packages/tqdm/auto.py:21: TqdmWarning: IProgress not found. Please update jupyter and ipywidgets. See https://ipywidgets.readthedocs.io/en/stable/user_install.html\n",
      "  from .autonotebook import tqdm as notebook_tqdm\n"
     ]
    }
   ],
   "source": [
    "import pathlib\n",
    "import textwrap\n",
    "\n",
    "import google.generativeai as genai\n",
    "\n",
    "from IPython.display import display\n",
    "from IPython.display import Markdown\n",
    "\n",
    "\n",
    "def to_markdown(text):\n",
    "  text = text.replace('•', '  *')\n",
    "  return Markdown(textwrap.indent(text, '> ', predicate=lambda _: True))"
   ]
  },
  {
   "cell_type": "code",
   "execution_count": 6,
   "metadata": {},
   "outputs": [],
   "source": [
    "# Or use `os.getenv('GOOGLE_API_KEY')` to fetch an environment variable.\n",
    "#GOOGLE_API_KEY=userdata.get('GOOGLE_API_KEY')\n",
    "GOOGLE_API_KEY = \"\"\n",
    "genai.configure(api_key=GOOGLE_API_KEY)"
   ]
  },
  {
   "cell_type": "code",
   "execution_count": 7,
   "metadata": {},
   "outputs": [
    {
     "name": "stdout",
     "output_type": "stream",
     "text": [
      "models/gemini-1.0-pro\n",
      "models/gemini-1.0-pro-001\n",
      "models/gemini-1.0-pro-latest\n",
      "models/gemini-1.0-pro-vision-latest\n",
      "models/gemini-1.5-flash-latest\n",
      "models/gemini-1.5-pro-latest\n",
      "models/gemini-pro\n",
      "models/gemini-pro-vision\n"
     ]
    }
   ],
   "source": [
    "for m in genai.list_models():\n",
    "  if 'generateContent' in m.supported_generation_methods:\n",
    "    print(m.name)"
   ]
  },
  {
   "cell_type": "code",
   "execution_count": 8,
   "metadata": {},
   "outputs": [],
   "source": [
    "model = genai.GenerativeModel('gemini-pro')"
   ]
  },
  {
   "cell_type": "code",
   "execution_count": 9,
   "metadata": {},
   "outputs": [],
   "source": [
    "\"\"\"\n",
    "Classificação de cada tweet:\n",
    "0- neutro, 1 - positivo, 2- negativo, 3- tweets que não são relacionados à bolsa, 10- Tweets não classificados\n",
    "\n",
    "\"\"\"\n",
    "\n",
    "\n",
    "def classify_tweet(tweet):\n",
    "    question = \"Estou classificando tweets em português brasileiro sobre a bolsa de valores do brasil. Quero que você classifique esse tweet em sentimentos onde cada número é um sentimento: 0- neutro, 1 - positivo, 2- negativo, 3- tweets que não são relacionados à bolsa. Esse é o tweet: \"+tweet+\". Me mande apenas o número da classificação\"\n",
    "    response = model.generate_content(question)\n",
    "    response = response.text\n",
    "    print(response)\n",
    "    if '0' in response.split():\n",
    "        return 0\n",
    "    elif '1' in response.split():\n",
    "        return 1\n",
    "    elif '2' in response.split():\n",
    "        return 2\n",
    "    \n",
    "    else:\n",
    "        return None\n",
    "    \n"
   ]
  },
  {
   "cell_type": "code",
   "execution_count": 10,
   "metadata": {},
   "outputs": [
    {
     "data": {
      "text/html": [
       "<div>\n",
       "<style scoped>\n",
       "    .dataframe tbody tr th:only-of-type {\n",
       "        vertical-align: middle;\n",
       "    }\n",
       "\n",
       "    .dataframe tbody tr th {\n",
       "        vertical-align: top;\n",
       "    }\n",
       "\n",
       "    .dataframe thead th {\n",
       "        text-align: right;\n",
       "    }\n",
       "</style>\n",
       "<table border=\"1\" class=\"dataframe\">\n",
       "  <thead>\n",
       "    <tr style=\"text-align: right;\">\n",
       "      <th></th>\n",
       "      <th>2</th>\n",
       "      <th>Classificação</th>\n",
       "    </tr>\n",
       "  </thead>\n",
       "  <tbody>\n",
       "    <tr>\n",
       "      <th>0</th>\n",
       "      <td>RT @AjudemSerena: IMPLORO POR SOCORRO!\\nPor fa...</td>\n",
       "      <td>0</td>\n",
       "    </tr>\n",
       "    <tr>\n",
       "      <th>1</th>\n",
       "      <td>@ShakedownVail Yo. What a #kickass #chill bar ...</td>\n",
       "      <td>0</td>\n",
       "    </tr>\n",
       "    <tr>\n",
       "      <th>2</th>\n",
       "      <td>RT @grazianopascale: \"Parece la trama de un fi...</td>\n",
       "      <td>0</td>\n",
       "    </tr>\n",
       "    <tr>\n",
       "      <th>3</th>\n",
       "      <td>RT @marcofeliciano: Pare e compare: PETROBRAS ...</td>\n",
       "      <td>2</td>\n",
       "    </tr>\n",
       "    <tr>\n",
       "      <th>4</th>\n",
       "      <td>RT @NetoItirussu: Hoje em depoimento da operaç...</td>\n",
       "      <td>0</td>\n",
       "    </tr>\n",
       "    <tr>\n",
       "      <th>...</th>\n",
       "      <td>...</td>\n",
       "      <td>...</td>\n",
       "    </tr>\n",
       "    <tr>\n",
       "      <th>66</th>\n",
       "      <td>@vitorino_gyn @UOLNoticias 13 anos PT FEZ NDA ...</td>\n",
       "      <td>10</td>\n",
       "    </tr>\n",
       "    <tr>\n",
       "      <th>67</th>\n",
       "      <td>B2W Digital recruta profissionais para vagas d...</td>\n",
       "      <td>10</td>\n",
       "    </tr>\n",
       "    <tr>\n",
       "      <th>68</th>\n",
       "      <td>RT @PRV10Z1TERMINA2: Não as privatizações da C...</td>\n",
       "      <td>10</td>\n",
       "    </tr>\n",
       "    <tr>\n",
       "      <th>69</th>\n",
       "      <td>@parafrentebrasi Eis pq a Petrobras quebrou. T...</td>\n",
       "      <td>10</td>\n",
       "    </tr>\n",
       "    <tr>\n",
       "      <th>70</th>\n",
       "      <td>Wow 🙄</td>\n",
       "      <td>10</td>\n",
       "    </tr>\n",
       "  </tbody>\n",
       "</table>\n",
       "<p>71 rows × 2 columns</p>\n",
       "</div>"
      ],
      "text/plain": [
       "                                                    2  Classificação\n",
       "0   RT @AjudemSerena: IMPLORO POR SOCORRO!\\nPor fa...              0\n",
       "1   @ShakedownVail Yo. What a #kickass #chill bar ...              0\n",
       "2   RT @grazianopascale: \"Parece la trama de un fi...              0\n",
       "3   RT @marcofeliciano: Pare e compare: PETROBRAS ...              2\n",
       "4   RT @NetoItirussu: Hoje em depoimento da operaç...              0\n",
       "..                                                ...            ...\n",
       "66  @vitorino_gyn @UOLNoticias 13 anos PT FEZ NDA ...             10\n",
       "67  B2W Digital recruta profissionais para vagas d...             10\n",
       "68  RT @PRV10Z1TERMINA2: Não as privatizações da C...             10\n",
       "69  @parafrentebrasi Eis pq a Petrobras quebrou. T...             10\n",
       "70                                              Wow 🙄             10\n",
       "\n",
       "[71 rows x 2 columns]"
      ]
     },
     "execution_count": 10,
     "metadata": {},
     "output_type": "execute_result"
    }
   ],
   "source": [
    "df.head(71)"
   ]
  },
  {
   "cell_type": "markdown",
   "metadata": {},
   "source": [
    "1,1 segundo para cada 1 tweet"
   ]
  },
  {
   "cell_type": "code",
   "execution_count": 11,
   "metadata": {},
   "outputs": [
    {
     "name": "stdout",
     "output_type": "stream",
     "text": [
      "Processando índice: 61\n",
      "Erro ao processar o índice 61: 429 Resource has been exhausted (e.g. check quota).\n",
      "Processando índice: 62\n",
      "Erro ao processar o índice 62: 429 Resource has been exhausted (e.g. check quota).\n",
      "Processando índice: 63\n",
      "Erro ao processar o índice 63: 429 Resource has been exhausted (e.g. check quota).\n",
      "Processando índice: 64\n",
      "Erro ao processar o índice 64: 429 Resource has been exhausted (e.g. check quota).\n",
      "Processando índice: 65\n",
      "Erro ao processar o índice 65: 429 Resource has been exhausted (e.g. check quota).\n",
      "Processando índice: 66\n",
      "Erro ao processar o índice 66: 429 Resource has been exhausted (e.g. check quota).\n",
      "                                                   2  Classificação\n",
      "0  RT @AjudemSerena: IMPLORO POR SOCORRO!\\nPor fa...              0\n",
      "1  @ShakedownVail Yo. What a #kickass #chill bar ...              0\n",
      "2  RT @grazianopascale: \"Parece la trama de un fi...              0\n",
      "3  RT @marcofeliciano: Pare e compare: PETROBRAS ...              2\n",
      "4  RT @NetoItirussu: Hoje em depoimento da operaç...              0\n",
      "5  @SamaraMouMei Só queria tá era com os boletos ...              0\n",
      "6  Ata ne deve ser , claro ainda no Banco do Bras...              0\n",
      "7  RT @marcofeliciano: CGU cassou aposentadoria d...              0\n",
      "8  O STF E O STJ SÃO PARAÍSOS DA BANDIDAGEM. AMBO...              2\n",
      "9  $180 pode mandar pra minha conta do itau em do...              2\n"
     ]
    }
   ],
   "source": [
    "last_index = 0\n",
    "count = 0\n",
    "\n",
    "# Selecionar índices que são maiores ou iguais a last_index\n",
    "indices = df.index[df.index >= last_index]\n",
    "\n",
    "for index in indices:\n",
    "    if count > 5:\n",
    "        break\n",
    "    \n",
    "    try:\n",
    "        # Verificar se a classificação atual é 10\n",
    "        if df.loc[index, 'Classificação'] == 10:\n",
    "            count += 1\n",
    "            print(f\"Processando índice: {index}\")\n",
    "            tweet = df.loc[index, '2']\n",
    "            response = classify_tweet(tweet)\n",
    "\n",
    "            if response is not None:\n",
    "                df.loc[index, 'Classificação'] = int(response)\n",
    "                print(f\"Índice {index} atualizado com a classificação {response}. Count atualizado: {count}\")\n",
    "            else:\n",
    "                print(f\"Response é None para o índice {index}, continuando...\")\n",
    "\n",
    "    except Exception as e:\n",
    "        print(f\"Erro ao processar o índice {index}: {e}\")\n",
    "        continue\n"
   ]
  },
  {
   "cell_type": "code",
   "execution_count": null,
   "metadata": {},
   "outputs": [],
   "source": [
    "df.head(71)"
   ]
  },
  {
   "cell_type": "code",
   "execution_count": null,
   "metadata": {},
   "outputs": [],
   "source": [
    "distribuicao = df['Classificação'].value_counts()\n",
    "print(distribuicao)\n"
   ]
  },
  {
   "cell_type": "code",
   "execution_count": null,
   "metadata": {},
   "outputs": [],
   "source": [
    "df.head(12290)\n",
    "print(len(df))"
   ]
  },
  {
   "cell_type": "code",
   "execution_count": null,
   "metadata": {},
   "outputs": [],
   "source": [
    "def rate_tweets(df, last_index):\n",
    "    indices = df.index[df.index >= last_index]\n",
    "\n",
    "    for index in indices:\n",
    "        print(df.loc[index, :])\n",
    "        answer = int(input(\"Coloque 0 para continuar, 1 para alterar classificação e 2 para parar: \"))\n",
    "        if answer == 0:\n",
    "            continue\n",
    "        elif answer == 1:\n",
    "            right_answer = int(input(\"Coloque a classificação correta: \"))\n",
    "            df.loc[index, \"Classificação\"] = right_answer\n",
    "            print(len(df[df[\"Classificação\"] == right_answer]))  # Corrigido\n",
    "        else:\n",
    "            return df  # Corrigido\n",
    "        \n",
    "    return df\n"
   ]
  },
  {
   "cell_type": "code",
   "execution_count": null,
   "metadata": {},
   "outputs": [],
   "source": [
    "pd.set_option('display.max_rows', None)  # Mostra todas as linhas\n",
    "pd.set_option('display.max_columns', None)  # Mostra todas as colunas\n",
    "pd.set_option('display.width', None)  # Largura da exibição\n",
    "pd.set_option('display.max_colwidth', None)  # Mostra todo o conteúdo das células\n",
    "\n",
    "df_test = rate_tweets(df,0)"
   ]
  },
  {
   "cell_type": "code",
   "execution_count": null,
   "metadata": {},
   "outputs": [],
   "source": [
    "df_test.head() "
   ]
  },
  {
   "cell_type": "code",
   "execution_count": null,
   "metadata": {},
   "outputs": [],
   "source": [
    "df.to_csv(\"tweets2020.csv\")"
   ]
  }
 ],
 "metadata": {
  "kernelspec": {
   "display_name": "env",
   "language": "python",
   "name": "python3"
  },
  "language_info": {
   "codemirror_mode": {
    "name": "ipython",
    "version": 3
   },
   "file_extension": ".py",
   "mimetype": "text/x-python",
   "name": "python",
   "nbconvert_exporter": "python",
   "pygments_lexer": "ipython3",
   "version": "3.10.12"
  }
 },
 "nbformat": 4,
 "nbformat_minor": 2
}
